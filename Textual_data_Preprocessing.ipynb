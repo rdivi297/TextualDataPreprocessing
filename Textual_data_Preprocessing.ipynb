{
  "nbformat": 4,
  "nbformat_minor": 0,
  "metadata": {
    "colab": {
      "provenance": [],
      "authorship_tag": "ABX9TyOiGGXaijmFVWagIUNuruSo",
      "include_colab_link": true
    },
    "kernelspec": {
      "name": "python3",
      "display_name": "Python 3"
    },
    "language_info": {
      "name": "python"
    }
  },
  "cells": [
    {
      "cell_type": "markdown",
      "metadata": {
        "id": "view-in-github",
        "colab_type": "text"
      },
      "source": [
        "<a href=\"https://colab.research.google.com/github/rdivi297/TextualDataPreprocessing/blob/main/Textual_data_Preprocessing.ipynb\" target=\"_parent\"><img src=\"https://colab.research.google.com/assets/colab-badge.svg\" alt=\"Open In Colab\"/></a>"
      ]
    },
    {
      "cell_type": "code",
      "execution_count": null,
      "metadata": {
        "colab": {
          "base_uri": "https://localhost:8080/"
        },
        "id": "QiUe0rtIqnFB",
        "outputId": "50901ae0-87ed-4926-b338-b2f1a6bce278"
      },
      "outputs": [
        {
          "output_type": "execute_result",
          "data": {
            "text/plain": [
              "['4.txt', '2.txt', '1.txt', '3.txt']"
            ]
          },
          "metadata": {},
          "execution_count": 11
        }
      ],
      "source": [
        "import os\n",
        "path = \"/content/drive/MyDrive/textdata/\"\n",
        "files=os.listdir(path)\n",
        "files"
      ]
    },
    {
      "cell_type": "code",
      "source": [
        "corpus=[]\n",
        "for i in range(len(files)):\n",
        "  f=open(path+files[i],'r')\n",
        "  corpus.append(f.read())\n",
        "  f.close()\n",
        "corpus"
      ],
      "metadata": {
        "colab": {
          "base_uri": "https://localhost:8080/"
        },
        "id": "LMkz2WHlXiag",
        "outputId": "77d04de5-8234-4a5c-894f-dec4b0498870"
      },
      "execution_count": null,
      "outputs": [
        {
          "output_type": "execute_result",
          "data": {
            "text/plain": [
              "['The trucks are driven on the highways .',\n",
              " 'This is an important data science course .',\n",
              " 'Data Science is an important field of science .',\n",
              " 'The cars are driven on the roads .']"
            ]
          },
          "metadata": {},
          "execution_count": 12
        }
      ]
    },
    {
      "cell_type": "code",
      "source": [
        "import numpy as np\n",
        "import pandas as pd\n",
        "import nltk\n",
        "nltk.download('punkt')\n",
        "nltk.download('stopwords')\n"
      ],
      "metadata": {
        "colab": {
          "base_uri": "https://localhost:8080/"
        },
        "id": "uVJmd2FGY1FT",
        "outputId": "e2d85a83-bab0-4dc0-cfbe-5b1998bce2ee"
      },
      "execution_count": null,
      "outputs": [
        {
          "output_type": "stream",
          "name": "stderr",
          "text": [
            "[nltk_data] Downloading package punkt to /root/nltk_data...\n",
            "[nltk_data]   Package punkt is already up-to-date!\n",
            "[nltk_data] Downloading package stopwords to /root/nltk_data...\n",
            "[nltk_data]   Unzipping corpora/stopwords.zip.\n"
          ]
        },
        {
          "output_type": "execute_result",
          "data": {
            "text/plain": [
              "True"
            ]
          },
          "metadata": {},
          "execution_count": 25
        }
      ]
    },
    {
      "cell_type": "code",
      "source": [
        "#1) normalization\n",
        "#lower case conversion\n",
        "lower=[]\n",
        "for i in corpus :\n",
        "  lower.append(\" \".join([word.lower() for word in  i.split()]))\n",
        "lower"
      ],
      "metadata": {
        "colab": {
          "base_uri": "https://localhost:8080/"
        },
        "id": "TDorCQJ4ZG0s",
        "outputId": "abee9bd5-6a10-477b-bc9a-e300579c2b10"
      },
      "execution_count": null,
      "outputs": [
        {
          "output_type": "execute_result",
          "data": {
            "text/plain": [
              "['the trucks are driven on the highways .',\n",
              " 'this is an important data science course .',\n",
              " 'data science is an important field of science .',\n",
              " 'the cars are driven on the roads .']"
            ]
          },
          "metadata": {},
          "execution_count": 15
        }
      ]
    },
    {
      "cell_type": "code",
      "source": [
        "#removing special symbols,urls, etc\n",
        "alpha=[]\n",
        "for i in lower:\n",
        "  alpha.append(\" \".join([word for word in i.split() if word.isalpha]))\n",
        "alpha"
      ],
      "metadata": {
        "colab": {
          "base_uri": "https://localhost:8080/"
        },
        "id": "ZfzWgDXWZzwx",
        "outputId": "094d47c1-e6df-4ada-e6a7-27e89190efa2"
      },
      "execution_count": null,
      "outputs": [
        {
          "output_type": "execute_result",
          "data": {
            "text/plain": [
              "['the trucks are driven on the highways .',\n",
              " 'this is an important data science course .',\n",
              " 'data science is an important field of science .',\n",
              " 'the cars are driven on the roads .']"
            ]
          },
          "metadata": {},
          "execution_count": 16
        }
      ]
    },
    {
      "cell_type": "code",
      "source": [
        "#2) tokenize\n",
        "#a) using split\n",
        "tokenize=[]\n",
        "for i in alpha:\n",
        "  tokenize.append([word for word in i.split()])\n",
        "tokenize"
      ],
      "metadata": {
        "colab": {
          "base_uri": "https://localhost:8080/"
        },
        "id": "2X28xgscaUN0",
        "outputId": "501f4ad2-663a-4470-9bb2-1c72adfcc907"
      },
      "execution_count": null,
      "outputs": [
        {
          "output_type": "execute_result",
          "data": {
            "text/plain": [
              "[['the', 'trucks', 'are', 'driven', 'on', 'the', 'highways', '.'],\n",
              " ['this', 'is', 'an', 'important', 'data', 'science', 'course', '.'],\n",
              " ['data', 'science', 'is', 'an', 'important', 'field', 'of', 'science', '.'],\n",
              " ['the', 'cars', 'are', 'driven', 'on', 'the', 'roads', '.']]"
            ]
          },
          "metadata": {},
          "execution_count": 17
        }
      ]
    },
    {
      "cell_type": "code",
      "source": [
        "#b) tokenize using word_tokenize from nltk\n",
        "from nltk.tokenize import word_tokenize\n",
        "tokenize=[]\n",
        "for i in alpha:\n",
        "  tokenize.append(word_tokenize(i))\n",
        "tokenize"
      ],
      "metadata": {
        "colab": {
          "base_uri": "https://localhost:8080/"
        },
        "id": "tBHqYVTEayjN",
        "outputId": "a3ce3007-c844-4f3b-c35f-200ddd2d5a16"
      },
      "execution_count": null,
      "outputs": [
        {
          "output_type": "execute_result",
          "data": {
            "text/plain": [
              "[['the', 'trucks', 'are', 'driven', 'on', 'the', 'highways', '.'],\n",
              " ['this', 'is', 'an', 'important', 'data', 'science', 'course', '.'],\n",
              " ['data', 'science', 'is', 'an', 'important', 'field', 'of', 'science', '.'],\n",
              " ['the', 'cars', 'are', 'driven', 'on', 'the', 'roads', '.']]"
            ]
          },
          "metadata": {},
          "execution_count": 21
        }
      ]
    },
    {
      "cell_type": "code",
      "source": [
        "#3) stop-word removal\n",
        "from nltk.corpus import *\n",
        "stopwords=nltk.corpus.stopwords.words('english')\n",
        "no_stop=[]\n",
        "for i in tokenize:\n",
        "  no_stop.append([word for word in i if word not in stopwords])\n",
        "no_stop"
      ],
      "metadata": {
        "colab": {
          "base_uri": "https://localhost:8080/"
        },
        "id": "CORHjRGFbvqM",
        "outputId": "5f4bcc3b-0dd7-4d8e-b68d-79211a6ee119"
      },
      "execution_count": null,
      "outputs": [
        {
          "output_type": "execute_result",
          "data": {
            "text/plain": [
              "[['trucks', 'driven', 'highways', '.'],\n",
              " ['important', 'data', 'science', 'course', '.'],\n",
              " ['data', 'science', 'important', 'field', 'science', '.'],\n",
              " ['cars', 'driven', 'roads', '.']]"
            ]
          },
          "metadata": {},
          "execution_count": 27
        }
      ]
    },
    {
      "cell_type": "code",
      "source": [
        "#4) stemming\n",
        "final=[]\n",
        "from nltk.stem import PorterStemmer\n",
        "p=PorterStemmer()\n",
        "for i in no_stop:\n",
        "  final.append(\" \".join([p.stem(word) for word in i]))\n",
        "final\n"
      ],
      "metadata": {
        "colab": {
          "base_uri": "https://localhost:8080/"
        },
        "id": "Xf0WEgydc4ZP",
        "outputId": "690b26a6-fa33-499d-b3b9-69e2606976d6"
      },
      "execution_count": null,
      "outputs": [
        {
          "output_type": "execute_result",
          "data": {
            "text/plain": [
              "['truck driven highway .',\n",
              " 'import data scienc cours .',\n",
              " 'data scienc import field scienc .',\n",
              " 'car driven road .']"
            ]
          },
          "metadata": {},
          "execution_count": 29
        }
      ]
    }
  ]
}